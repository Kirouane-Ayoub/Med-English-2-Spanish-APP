{
  "nbformat": 4,
  "nbformat_minor": 0,
  "metadata": {
    "colab": {
      "provenance": [],
      "gpuType": "T4"
    },
    "kernelspec": {
      "name": "python3",
      "display_name": "Python 3"
    },
    "language_info": {
      "name": "python"
    },
    "accelerator": "GPU"
  },
  "cells": [
    {
      "cell_type": "code",
      "execution_count": 1,
      "metadata": {
        "id": "FB2A8LHeSJZD"
      },
      "outputs": [],
      "source": [
        "!pip -q install transformers[sentencepiece] sacremoses"
      ]
    },
    {
      "cell_type": "code",
      "source": [
        "from transformers import AutoTokenizer, AutoModelForSeq2SeqLM\n",
        "\n",
        "tokenizer = AutoTokenizer.from_pretrained(\"ayoubkirouane/Med_English2Spanish\")\n",
        "model = AutoModelForSeq2SeqLM.from_pretrained(\"ayoubkirouane/Med_English2Spanish\")"
      ],
      "metadata": {
        "id": "XDvIkFgDQ2zk"
      },
      "execution_count": null,
      "outputs": []
    },
    {
      "cell_type": "code",
      "source": [
        "src_text = ['Adult pneumoccocical sepsis: Should we rule out congenital anesplenia?']\n",
        "translated = model.generate(**tokenizer(src_text, return_tensors=\"pt\", padding=True))\n",
        "[tokenizer.decode(t, skip_special_tokens=True) for t in translated]"
      ],
      "metadata": {
        "colab": {
          "base_uri": "https://localhost:8080/"
        },
        "id": "WXs2ARGORuZb",
        "outputId": "c49b4607-b8b5-4e2e-878f-d74190d50d4b"
      },
      "execution_count": 5,
      "outputs": [
        {
          "output_type": "execute_result",
          "data": {
            "text/plain": [
              "['Sepsis neumocócica del adulto: ¿debe descartarse la anesplenia congénita?']"
            ]
          },
          "metadata": {},
          "execution_count": 5
        }
      ]
    },
    {
      "cell_type": "code",
      "source": [
        "def run(src_text , model=model) :\n",
        "  translated = model.generate(**tokenizer([src_text], return_tensors=\"pt\", padding=True))\n",
        "  return [tokenizer.decode(t, skip_special_tokens=True) for t in translated][0]"
      ],
      "metadata": {
        "id": "PNEaOPqTSJEX"
      },
      "execution_count": 6,
      "outputs": []
    },
    {
      "cell_type": "code",
      "source": [
        "run('Adult pneumoccocical sepsis: Should we rule out congenital anesplenia?')"
      ],
      "metadata": {
        "colab": {
          "base_uri": "https://localhost:8080/",
          "height": 35
        },
        "id": "aqoYjlilSYIS",
        "outputId": "0324ec6f-c097-42b2-e2cc-3a6c3227c088"
      },
      "execution_count": 7,
      "outputs": [
        {
          "output_type": "execute_result",
          "data": {
            "text/plain": [
              "'Sepsis neumocócica del adulto: ¿debe descartarse la anesplenia congénita?'"
            ],
            "application/vnd.google.colaboratory.intrinsic+json": {
              "type": "string"
            }
          },
          "metadata": {},
          "execution_count": 7
        }
      ]
    }
  ]
}